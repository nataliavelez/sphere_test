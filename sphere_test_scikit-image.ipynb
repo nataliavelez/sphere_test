{
 "cells": [
  {
   "cell_type": "markdown",
   "metadata": {},
   "source": [
    "# Sphere test\n",
    "Slicing a sphere for laser cutting "
   ]
  },
  {
   "cell_type": "code",
   "execution_count": 10,
   "metadata": {},
   "outputs": [],
   "source": [
    "%matplotlib inline\n",
    "\n",
    "from IPython.display import display\n",
    "\n",
    "import numpy as np\n",
    "import matplotlib.pyplot as plt\n",
    "import pandas as pd\n",
    "from scipy import ndimage\n",
    "from skimage import measure"
   ]
  },
  {
   "cell_type": "markdown",
   "metadata": {},
   "source": [
    "## Make sphere"
   ]
  },
  {
   "cell_type": "code",
   "execution_count": 2,
   "metadata": {},
   "outputs": [],
   "source": [
    "def make_sphere(container_size, radius):\n",
    "\n",
    "    idx = np.arange(0, container_size)\n",
    "    center = np.median(idx)\n",
    "\n",
    "    _x = idx\n",
    "    _y = idx\n",
    "    _z = idx\n",
    "    x, y, z = np.meshgrid(_x, _y, _z, indexing='ij')\n",
    "    \n",
    "    sphere = (x-center)**2+(y-center)**2+(z-center)**2 <= radius**2\n",
    "    sphere = sphere*1\n",
    "    return sphere"
   ]
  },
  {
   "cell_type": "code",
   "execution_count": 3,
   "metadata": {},
   "outputs": [],
   "source": [
    "big_sphere = make_sphere(71*5, 62/2*5)\n",
    "little_sphere = make_sphere(71*5, 62/4*5)\n",
    "composed_sphere = big_sphere-little_sphere"
   ]
  },
  {
   "cell_type": "code",
   "execution_count": 4,
   "metadata": {},
   "outputs": [
    {
     "data": {
      "text/plain": [
       "<matplotlib.image.AxesImage at 0x1c34560320>"
      ]
     },
     "execution_count": 4,
     "metadata": {},
     "output_type": "execute_result"
    },
    {
     "data": {
      "image/png": "[encoded data removed]",
      "text/plain": [
       "<Figure size 432x288 with 1 Axes>"
      ]
     },
     "metadata": {},
     "output_type": "display_data"
    }
   ],
   "source": [
    "test_slice = composed_sphere[:,:,int(71*5/2)]\n",
    "plt.imshow(test_slice)"
   ]
  },
  {
   "cell_type": "markdown",
   "metadata": {},
   "source": [
    "Select slices for laser cutting:"
   ]
  },
  {
   "cell_type": "code",
   "execution_count": 5,
   "metadata": {},
   "outputs": [
    {
     "name": "stdout",
     "output_type": "stream",
     "text": [
      "[ 30  79 128 177 226 275 325]\n"
     ]
    }
   ],
   "source": [
    "slices_to_print = np.linspace(30,71*5-30,7).astype(int)\n",
    "print(slices_to_print)"
   ]
  },
  {
   "cell_type": "code",
   "execution_count": 6,
   "metadata": {},
   "outputs": [
    {
     "data": {
      "image/png": "[encoded data removed]",
      "text/plain": [
       "<Figure size 864x216 with 7 Axes>"
      ]
     },
     "metadata": {},
     "output_type": "display_data"
    }
   ],
   "source": [
    "f, ax = plt.subplots(1, 7, figsize=(12,3))\n",
    "for axi,i in zip(ax,slices_to_print):\n",
    "    axi.imshow(composed_sphere[:,:,i])"
   ]
  },
  {
   "cell_type": "code",
   "execution_count": 7,
   "metadata": {},
   "outputs": [
    {
     "name": "stdout",
     "output_type": "stream",
     "text": [
      "(355, 355, 7)\n"
     ]
    }
   ],
   "source": [
    "print_slices = composed_sphere[:,:,slices_to_print]\n",
    "print_shape = np.shape(print_slices)\n",
    "\n",
    "print(print_shape)"
   ]
  },
  {
   "cell_type": "markdown",
   "metadata": {},
   "source": [
    "## Image processing"
   ]
  },
  {
   "cell_type": "markdown",
   "metadata": {},
   "source": [
    "Add rectangular base to slice:"
   ]
  },
  {
   "cell_type": "code",
   "execution_count": 8,
   "metadata": {},
   "outputs": [],
   "source": [
    "def add_base(arr):\n",
    "    w,h = np.shape(arr)\n",
    "\n",
    "    # Fill inner hole\n",
    "    arr_filled = ndimage.binary_fill_holes(arr)\n",
    "\n",
    "    # Find horizontal bounds\n",
    "    circle_horiz = np.sum(arr, axis=1)\n",
    "    circle_horiz_coords = np.where(circle_horiz > 0)[0]\n",
    "    circle_diameter = circle_horiz_coords[-1]-circle_horiz_coords[0]\n",
    "    base_width = int(circle_diameter*.5)\n",
    "    offset = int((w-base_width)/2)\n",
    "\n",
    "    # Bounding box\n",
    "    x0 = offset\n",
    "    x1 = w-offset\n",
    "\n",
    "    y0 = np.where(arr_filled[:,x0])[0][-1]\n",
    "    y1 = h\n",
    "\n",
    "    # Draw rectangle\n",
    "    rect_arr = np.zeros((w,h))\n",
    "    rect_arr[y0:y1, x0:x1] = 1\n",
    "\n",
    "    # Slice + base\n",
    "    base = (arr + rect_arr) > 0\n",
    "    base = base*1\n",
    "    \n",
    "    return rect_arr, base"
   ]
  },
  {
   "cell_type": "code",
   "execution_count": 9,
   "metadata": {},
   "outputs": [
    {
     "ename": "NameError",
     "evalue": "name 'ndimage' is not defined",
     "output_type": "error",
     "traceback": [
      "\u001b[0;31m---------------------------------------------------------------------------\u001b[0m",
      "\u001b[0;31mNameError\u001b[0m                                 Traceback (most recent call last)",
      "\u001b[0;32m<ipython-input-9-7dad0fadcd11>\u001b[0m in \u001b[0;36m<module>\u001b[0;34m()\u001b[0m\n\u001b[0;32m----> 1\u001b[0;31m \u001b[0mtest_rect\u001b[0m\u001b[0;34m,\u001b[0m \u001b[0mtest_base\u001b[0m \u001b[0;34m=\u001b[0m \u001b[0madd_base\u001b[0m\u001b[0;34m(\u001b[0m\u001b[0mtest_slice\u001b[0m\u001b[0;34m)\u001b[0m\u001b[0;34m\u001b[0m\u001b[0;34m\u001b[0m\u001b[0m\n\u001b[0m\u001b[1;32m      2\u001b[0m \u001b[0mplt\u001b[0m\u001b[0;34m.\u001b[0m\u001b[0mimshow\u001b[0m\u001b[0;34m(\u001b[0m\u001b[0mtest_base\u001b[0m\u001b[0;34m)\u001b[0m\u001b[0;34m\u001b[0m\u001b[0;34m\u001b[0m\u001b[0m\n",
      "\u001b[0;32m<ipython-input-8-c7e09a5789f5>\u001b[0m in \u001b[0;36madd_base\u001b[0;34m(arr)\u001b[0m\n\u001b[1;32m      3\u001b[0m \u001b[0;34m\u001b[0m\u001b[0m\n\u001b[1;32m      4\u001b[0m     \u001b[0;31m# Fill inner hole\u001b[0m\u001b[0;34m\u001b[0m\u001b[0;34m\u001b[0m\u001b[0;34m\u001b[0m\u001b[0m\n\u001b[0;32m----> 5\u001b[0;31m     \u001b[0marr_filled\u001b[0m \u001b[0;34m=\u001b[0m \u001b[0mndimage\u001b[0m\u001b[0;34m.\u001b[0m\u001b[0mbinary_fill_holes\u001b[0m\u001b[0;34m(\u001b[0m\u001b[0marr\u001b[0m\u001b[0;34m)\u001b[0m\u001b[0;34m\u001b[0m\u001b[0;34m\u001b[0m\u001b[0m\n\u001b[0m\u001b[1;32m      6\u001b[0m \u001b[0;34m\u001b[0m\u001b[0m\n\u001b[1;32m      7\u001b[0m     \u001b[0;31m# Find horizontal bounds\u001b[0m\u001b[0;34m\u001b[0m\u001b[0;34m\u001b[0m\u001b[0;34m\u001b[0m\u001b[0m\n",
      "\u001b[0;31mNameError\u001b[0m: name 'ndimage' is not defined"
     ]
    }
   ],
   "source": [
    "test_rect, test_base = add_base(test_slice)\n",
    "plt.imshow(test_base)"
   ]
  },
  {
   "cell_type": "markdown",
   "metadata": {},
   "source": [
    "Detect contours in sphere:"
   ]
  },
  {
   "cell_type": "code",
   "execution_count": null,
   "metadata": {},
   "outputs": [],
   "source": [
    "sphere_contours = measure.find_contours(test_slice, 0.8)\n",
    "\n",
    "fig, ax = plt.subplots()\n",
    "ax.imshow(test_slice, cmap=plt.cm.gray)\n",
    "\n",
    "for n, contour in enumerate(sphere_contours):\n",
    "    ax.plot(contour[:, 1], contour[:, 0], linewidth=2)"
   ]
  },
  {
   "cell_type": "markdown",
   "metadata": {},
   "source": [
    "Detect contours in sphere + base:"
   ]
  },
  {
   "cell_type": "code",
   "execution_count": null,
   "metadata": {},
   "outputs": [],
   "source": [
    "base_contours = measure.find_contours(test_base, 0.8)\n",
    "\n",
    "fig, ax = plt.subplots()\n",
    "ax.imshow(test_base, cmap=plt.cm.gray)\n",
    "\n",
    "for n, contour in enumerate(base_contours):\n",
    "    ax.plot(contour[:, 1], contour[:, 0], linewidth=2)"
   ]
  },
  {
   "cell_type": "markdown",
   "metadata": {},
   "source": [
    "Find points in sphere contour that are not in base contour:"
   ]
  },
  {
   "cell_type": "code",
   "execution_count": null,
   "metadata": {},
   "outputs": [],
   "source": [
    "arr2df = lambda df: pd.DataFrame({'y':df[:,0],'x':df[:,1]})\n",
    "sphere_cat = np.concatenate(sphere_contours)\n",
    "sphere_df = arr2df(sphere_cat)\n",
    "\n",
    "sphere_df.head()"
   ]
  },
  {
   "cell_type": "code",
   "execution_count": null,
   "metadata": {},
   "outputs": [],
   "source": [
    "base_cat = np.concatenate(base_contours)\n",
    "base_df = arr2df(base_cat)\n",
    "\n",
    "base_df.head()"
   ]
  },
  {
   "cell_type": "code",
   "execution_count": null,
   "metadata": {},
   "outputs": [],
   "source": [
    "unique_df = pd.merge(sphere_df, base_df, on=['x','y'], how='left', indicator='belongs_to')\n",
    "unique_df = unique_df[unique_df['belongs_to'] == 'left_only']\n",
    "unique_df.drop('belongs_to', axis=1, inplace=True)\n",
    "unique_df.head()"
   ]
  },
  {
   "cell_type": "code",
   "execution_count": null,
   "metadata": {},
   "outputs": [],
   "source": [
    "unique_contour = unique_df.values"
   ]
  },
  {
   "cell_type": "code",
   "execution_count": null,
   "metadata": {},
   "outputs": [],
   "source": [
    "fig, ax = plt.subplots()\n",
    "ax.imshow(test_base, cmap=plt.cm.gray)\n",
    "\n",
    "for n, contour in enumerate(base_contours):\n",
    "    ax.plot(contour[:, 1], contour[:, 0], linewidth=2, color='#ff0000')\n",
    "    \n",
    "ax.plot(unique_contour[:, 1], unique_contour[:, 0], linewidth=2, color='#0000ff')"
   ]
  }
 ],
 "metadata": {
  "kernelspec": {
   "display_name": "Python 3",
   "language": "python",
   "name": "python3"
  },
  "language_info": {
   "codemirror_mode": {
    "name": "ipython",
    "version": 3
   },
   "file_extension": ".py",
   "mimetype": "text/x-python",
   "name": "python",
   "nbconvert_exporter": "python",
   "pygments_lexer": "ipython3",
   "version": "3.6.8"
  }
 },
 "nbformat": 4,
 "nbformat_minor": 2
}
