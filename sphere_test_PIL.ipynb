{
 "cells": [
  {
   "cell_type": "markdown",
   "metadata": {},
   "source": [
    "# Sphere test\n",
    "Generating spherical slices for cutting"
   ]
  },
  {
   "cell_type": "code",
   "execution_count": 1,
   "metadata": {},
   "outputs": [],
   "source": [
    "%matplotlib inline\n",
    "\n",
    "from IPython.display import display\n",
    "\n",
    "import numpy as np\n",
    "import matplotlib.pyplot as plt\n",
    "from scipy import ndimage\n",
    "from PIL import Image, ImageFilter, ImageDraw"
   ]
  },
  {
   "cell_type": "markdown",
   "metadata": {},
   "source": [
    "## Generate test data"
   ]
  },
  {
   "cell_type": "markdown",
   "metadata": {},
   "source": [
    "Helper functions: Draw large sphere with a smaller, concentric cutout\n",
    "\n",
    "$ (x - a)² + (y - b)² + (z - c)² = r² $"
   ]
  },
  {
   "cell_type": "code",
   "execution_count": 2,
   "metadata": {},
   "outputs": [],
   "source": [
    "def make_sphere(container_size, radius):\n",
    "\n",
    "    idx = np.arange(0, container_size)\n",
    "    center = np.median(idx)\n",
    "\n",
    "    _x = idx\n",
    "    _y = idx\n",
    "    _z = idx\n",
    "    x, y, z = np.meshgrid(_x, _y, _z, indexing='ij')\n",
    "    \n",
    "    sphere = (x-center)**2+(y-center)**2+(z-center)**2 <= radius**2\n",
    "    sphere = sphere*1\n",
    "    return sphere"
   ]
  },
  {
   "cell_type": "code",
   "execution_count": 3,
   "metadata": {},
   "outputs": [],
   "source": [
    "big_sphere = make_sphere(71*5, 62/2*5)\n",
    "little_sphere = make_sphere(71*5, 62/4*5)\n",
    "composed_sphere = big_sphere-little_sphere"
   ]
  },
  {
   "cell_type": "code",
   "execution_count": 4,
   "metadata": {},
   "outputs": [
    {
     "data": {
      "text/plain": [
       "<matplotlib.image.AxesImage at 0xb3691d3c8>"
      ]
     },
     "execution_count": 4,
     "metadata": {},
     "output_type": "execute_result"
    },
    {
     "data": {
      "image/png": "[encoded data removed]",
      "text/plain": [
       "<Figure size 432x288 with 1 Axes>"
      ]
     },
     "metadata": {},
     "output_type": "display_data"
    }
   ],
   "source": [
    "test_slice = composed_sphere[:,:,int(71*5/2)]\n",
    "plt.imshow(test_slice)"
   ]
  },
  {
   "cell_type": "markdown",
   "metadata": {},
   "source": [
    "Select slices for laser cutting:"
   ]
  },
  {
   "cell_type": "code",
   "execution_count": 5,
   "metadata": {},
   "outputs": [
    {
     "name": "stdout",
     "output_type": "stream",
     "text": [
      "[ 30  79 128 177 226 275 325]\n"
     ]
    }
   ],
   "source": [
    "slices_to_print = np.linspace(30,71*5-30,7).astype(int)\n",
    "print(slices_to_print)"
   ]
  },
  {
   "cell_type": "code",
   "execution_count": 6,
   "metadata": {},
   "outputs": [
    {
     "data": {
      "image/png": "[encoded data removed]",
      "text/plain": [
       "<Figure size 864x216 with 7 Axes>"
      ]
     },
     "metadata": {},
     "output_type": "display_data"
    }
   ],
   "source": [
    "f, ax = plt.subplots(1, 7, figsize=(12,3))\n",
    "for axi,i in zip(ax,slices_to_print):\n",
    "    axi.imshow(composed_sphere[:,:,i])"
   ]
  },
  {
   "cell_type": "code",
   "execution_count": 7,
   "metadata": {},
   "outputs": [
    {
     "name": "stdout",
     "output_type": "stream",
     "text": [
      "(355, 355, 7)\n"
     ]
    }
   ],
   "source": [
    "print_slices = composed_sphere[:,:,slices_to_print]\n",
    "print_shape = np.shape(print_slices)\n",
    "\n",
    "print(print_shape)"
   ]
  },
  {
   "cell_type": "markdown",
   "metadata": {},
   "source": [
    "## Image processing"
   ]
  },
  {
   "cell_type": "markdown",
   "metadata": {},
   "source": [
    "Turn a binary array into a mask image:"
   ]
  },
  {
   "cell_type": "code",
   "execution_count": 8,
   "metadata": {},
   "outputs": [],
   "source": [
    "def arr2img(arr):\n",
    "    \n",
    "    # Select slice\n",
    "    arr_neg = (1-arr)*255\n",
    "    arr_3d = np.expand_dims(arr,2)\n",
    "    \n",
    "    # Image data\n",
    "    arr_rgba = np.ones(np.shape(arr) + (4,))*255.0\n",
    "    arr_rgba[:,:,1] = arr_neg\n",
    "    arr_rgba[:,:,2] = arr_neg\n",
    "    arr_rgba = arr_rgba.astype('uint8')\n",
    "    \n",
    "    # Output image\n",
    "    arr_img = Image.fromarray(arr_rgba, mode='RGBA')\n",
    "    return arr_img"
   ]
  },
  {
   "cell_type": "code",
   "execution_count": 9,
   "metadata": {},
   "outputs": [
    {
     "data": {
      "image/png": "[encoded data removed]",
      "text/plain": [
       "<PIL.Image.Image image mode=RGBA size=355x355 at 0xB373FC518>"
      ]
     },
     "metadata": {},
     "output_type": "display_data"
    }
   ],
   "source": [
    "test_image = arr2img(test_slice)\n",
    "display(test_image)"
   ]
  },
  {
   "cell_type": "markdown",
   "metadata": {},
   "source": [
    "Detect contours in mask image:"
   ]
  },
  {
   "cell_type": "code",
   "execution_count": 10,
   "metadata": {},
   "outputs": [],
   "source": [
    "def mask2contour(mask_img):\n",
    "    \n",
    "    contour_img = mask_img.filter(ImageFilter.CONTOUR)\n",
    "    \n",
    "    return contour_img"
   ]
  },
  {
   "cell_type": "code",
   "execution_count": 11,
   "metadata": {},
   "outputs": [
    {
     "data": {
      "image/png": "[encoded data removed]",
      "text/plain": [
       "<PIL.Image.Image image mode=RGBA size=355x355 at 0xB373E6FD0>"
      ]
     },
     "metadata": {},
     "output_type": "display_data"
    }
   ],
   "source": [
    "test_contour = mask2contour(test_image)\n",
    "display(test_contour)"
   ]
  },
  {
   "cell_type": "markdown",
   "metadata": {},
   "source": [
    "Add rectangular base to slice:"
   ]
  },
  {
   "cell_type": "code",
   "execution_count": 12,
   "metadata": {},
   "outputs": [],
   "source": [
    "def add_base(arr):\n",
    "    w,h = np.shape(arr)\n",
    "\n",
    "    # Fill inner hole\n",
    "    arr_filled = ndimage.binary_fill_holes(arr)\n",
    "\n",
    "    # Find horizontal bounds\n",
    "    circle_horiz = np.sum(arr, axis=1)\n",
    "    circle_horiz_coords = np.where(circle_horiz > 0)[0]\n",
    "    circle_diameter = circle_horiz_coords[-1]-circle_horiz_coords[0]\n",
    "    base_width = int(circle_diameter*.5)\n",
    "    offset = int((w-base_width)/2)\n",
    "\n",
    "    # Bounding box\n",
    "    x0 = offset\n",
    "    x1 = w-offset\n",
    "\n",
    "    y0 = np.where(arr_filled[:,x0])[0][-1]\n",
    "    y1 = h\n",
    "\n",
    "    # Draw rectangle\n",
    "    rect_arr = np.zeros((w,h))\n",
    "    rect_arr[y0:y1, x0:x1] = 1\n",
    "\n",
    "    # Slice + base\n",
    "    base = (arr + rect_arr) > 0\n",
    "    base = base*1\n",
    "    \n",
    "    return rect_arr, base"
   ]
  },
  {
   "cell_type": "code",
   "execution_count": 13,
   "metadata": {},
   "outputs": [
    {
     "data": {
      "text/plain": [
       "<matplotlib.image.AxesImage at 0xb380e50b8>"
      ]
     },
     "execution_count": 13,
     "metadata": {},
     "output_type": "execute_result"
    },
    {
     "data": {
      "image/png": "[encoded data removed]",
      "text/plain": [
       "<Figure size 432x288 with 1 Axes>"
      ]
     },
     "metadata": {},
     "output_type": "display_data"
    }
   ],
   "source": [
    "test_rect, test_base = add_base(test_slice)\n",
    "plt.imshow(test_base)"
   ]
  },
  {
   "cell_type": "code",
   "execution_count": 14,
   "metadata": {},
   "outputs": [
    {
     "data": {
      "image/png": "[encoded data removed]",
      "text/plain": [
       "<PIL.Image.Image image mode=RGBA size=355x355 at 0xB38388160>"
      ]
     },
     "metadata": {},
     "output_type": "display_data"
    }
   ],
   "source": [
    "test_base_img = arr2img(test_base)\n",
    "display(test_base_img)"
   ]
  },
  {
   "cell_type": "code",
   "execution_count": 15,
   "metadata": {},
   "outputs": [
    {
     "data": {
      "image/png": "[encoded data removed]",
      "text/plain": [
       "<PIL.Image.Image image mode=RGBA size=355x355 at 0xB38388780>"
      ]
     },
     "metadata": {},
     "output_type": "display_data"
    }
   ],
   "source": [
    "test_base_contour = mask2contour(test_base_img)\n",
    "display(test_base_contour)"
   ]
  },
  {
   "cell_type": "markdown",
   "metadata": {},
   "source": [
    "Helper function: Image back to binary array"
   ]
  },
  {
   "cell_type": "code",
   "execution_count": 16,
   "metadata": {},
   "outputs": [],
   "source": [
    "def image2arr(img):\n",
    "    \n",
    "    img_copy = img.copy()\n",
    "    img_data = np.array(img_copy)\n",
    "    \n",
    "    img_mult = np.prod(img_data, axis=2)\n",
    "    img_bin = (img_mult > 0)*1\n",
    "    img_neg = 1-img_bin\n",
    "    \n",
    "    return img_neg"
   ]
  },
  {
   "cell_type": "code",
   "execution_count": 17,
   "metadata": {},
   "outputs": [
    {
     "data": {
      "text/plain": [
       "<matplotlib.image.AxesImage at 0xb382eeac8>"
      ]
     },
     "execution_count": 17,
     "metadata": {},
     "output_type": "execute_result"
    },
    {
     "data": {
      "image/png": "[encoded data removed]",
      "text/plain": [
       "<Figure size 576x576 with 1 Axes>"
      ]
     },
     "metadata": {},
     "output_type": "display_data"
    }
   ],
   "source": [
    "test_arr = image2arr(test_base_contour)\n",
    "plt.figure(figsize=(8,8))\n",
    "plt.imshow(test_arr)"
   ]
  },
  {
   "cell_type": "markdown",
   "metadata": {},
   "source": [
    "Engrave whatever slice contours intersect with the base:"
   ]
  },
  {
   "cell_type": "code",
   "execution_count": 19,
   "metadata": {},
   "outputs": [
    {
     "data": {
      "image/png": "[encoded data removed]",
      "text/plain": [
       "<PIL.Image.Image image mode=RGBA size=355x355 at 0xB383044E0>"
      ]
     },
     "metadata": {},
     "output_type": "display_data"
    }
   ],
   "source": [
    "contour_img = test_contour\n",
    "base_img = test_base_contour\n",
    "base_rect = test_rect\n",
    "\n",
    "# Convert slice, slice+base images into arrays\n",
    "contour_arr = image2arr(contour_img)\n",
    "base_arr = image2arr(base_img)\n",
    "\n",
    "# Get outlines that are within slice\n",
    "inner_contours = (1-contour_arr*base_rect)\n",
    "outer_contours = (1-base_arr)\n",
    "\n",
    "# Color outer contours (cut) red, inner contours (engrave) blue\n",
    "cut_arr = np.ones(np.shape(base_img))\n",
    "cut_arr[:,:,0] = inner_contours\n",
    "cut_arr[:,:,1] = inner_contours * outer_contours\n",
    "cut_arr[:,:,2] = outer_contours\n",
    "cut_arr[:,:,3] = (2-inner_contours-outer_contours) > 0\n",
    "\n",
    "cut_arr = cut_arr*255.0\n",
    "cut_arr = cut_arr.astype('uint8')\n",
    "\n",
    "cut_img = Image.fromarray(cut_arr, mode='RGBA')\n",
    "display(cut_img)"
   ]
  }
 ],
 "metadata": {
  "kernelspec": {
   "display_name": "Python 3",
   "language": "python",
   "name": "python3"
  },
  "language_info": {
   "codemirror_mode": {
    "name": "ipython",
    "version": 3
   },
   "file_extension": ".py",
   "mimetype": "text/x-python",
   "name": "python",
   "nbconvert_exporter": "python",
   "pygments_lexer": "ipython3",
   "version": "3.6.8"
  }
 },
 "nbformat": 4,
 "nbformat_minor": 2
}
